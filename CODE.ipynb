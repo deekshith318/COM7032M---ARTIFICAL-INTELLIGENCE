{
  "nbformat": 4,
  "nbformat_minor": 0,
  "metadata": {
    "colab": {
      "provenance": []
    },
    "kernelspec": {
      "name": "python3",
      "display_name": "Python 3"
    },
    "language_info": {
      "name": "python"
    },
    "widgets": {
      "application/vnd.jupyter.widget-state+json": {
        "7d10818869284a8da84fba582104975b": {
          "model_module": "@jupyter-widgets/controls",
          "model_name": "DropdownModel",
          "model_module_version": "1.5.0",
          "state": {
            "_dom_classes": [],
            "_model_module": "@jupyter-widgets/controls",
            "_model_module_version": "1.5.0",
            "_model_name": "DropdownModel",
            "_options_labels": [
              "Select",
              "Triangle",
              "Rectangle",
              "Circle"
            ],
            "_view_count": null,
            "_view_module": "@jupyter-widgets/controls",
            "_view_module_version": "1.5.0",
            "_view_name": "DropdownView",
            "description": "Shape:",
            "description_tooltip": null,
            "disabled": false,
            "index": 0,
            "layout": "IPY_MODEL_27b9e7abadf14fc48ef1b9fb2922857b",
            "style": "IPY_MODEL_86b404c058fe4cceb386557457fb3353"
          }
        },
        "27b9e7abadf14fc48ef1b9fb2922857b": {
          "model_module": "@jupyter-widgets/base",
          "model_name": "LayoutModel",
          "model_module_version": "1.2.0",
          "state": {
            "_model_module": "@jupyter-widgets/base",
            "_model_module_version": "1.2.0",
            "_model_name": "LayoutModel",
            "_view_count": null,
            "_view_module": "@jupyter-widgets/base",
            "_view_module_version": "1.2.0",
            "_view_name": "LayoutView",
            "align_content": null,
            "align_items": null,
            "align_self": null,
            "border": null,
            "bottom": null,
            "display": null,
            "flex": null,
            "flex_flow": null,
            "grid_area": null,
            "grid_auto_columns": null,
            "grid_auto_flow": null,
            "grid_auto_rows": null,
            "grid_column": null,
            "grid_gap": null,
            "grid_row": null,
            "grid_template_areas": null,
            "grid_template_columns": null,
            "grid_template_rows": null,
            "height": null,
            "justify_content": null,
            "justify_items": null,
            "left": null,
            "margin": null,
            "max_height": null,
            "max_width": null,
            "min_height": null,
            "min_width": null,
            "object_fit": null,
            "object_position": null,
            "order": null,
            "overflow": null,
            "overflow_x": null,
            "overflow_y": null,
            "padding": null,
            "right": null,
            "top": null,
            "visibility": null,
            "width": null
          }
        },
        "86b404c058fe4cceb386557457fb3353": {
          "model_module": "@jupyter-widgets/controls",
          "model_name": "DescriptionStyleModel",
          "model_module_version": "1.5.0",
          "state": {
            "_model_module": "@jupyter-widgets/controls",
            "_model_module_version": "1.5.0",
            "_model_name": "DescriptionStyleModel",
            "_view_count": null,
            "_view_module": "@jupyter-widgets/base",
            "_view_module_version": "1.2.0",
            "_view_name": "StyleView",
            "description_width": ""
          }
        }
      }
    }
  },
  "cells": [
    {
      "cell_type": "code",
      "execution_count": 10,
      "metadata": {
        "colab": {
          "base_uri": "https://localhost:8080/",
          "height": 85,
          "referenced_widgets": [
            "7d10818869284a8da84fba582104975b",
            "27b9e7abadf14fc48ef1b9fb2922857b",
            "86b404c058fe4cceb386557457fb3353"
          ]
        },
        "id": "NU4EYHM60_Jv",
        "outputId": "49767214-d570-449d-b34c-ed694c2085b6"
      },
      "outputs": [
        {
          "output_type": "stream",
          "name": "stdout",
          "text": [
            "Welcome to the Intelligent Tutoring System!\n",
            "Choose a shape to calculate the area:\n"
          ]
        },
        {
          "output_type": "display_data",
          "data": {
            "text/plain": [
              "Dropdown(description='Shape:', options=('Select', 'Triangle', 'Rectangle', 'Circle'), value='Select')"
            ],
            "application/vnd.jupyter.widget-view+json": {
              "version_major": 2,
              "version_minor": 0,
              "model_id": "7d10818869284a8da84fba582104975b"
            }
          },
          "metadata": {}
        }
      ],
      "source": [
        "# Importing necessary libraries\n",
        "import ipywidgets as widgets\n",
        "from IPython.display import display, clear_output\n",
        "\n",
        "# Function to calculate area\n",
        "def calculate_area(shape, dimensions):\n",
        "    if shape == \"Triangle\":\n",
        "        base, height = dimensions\n",
        "        return 0.5 * base * height\n",
        "    elif shape == \"Rectangle\":\n",
        "        length, width = dimensions\n",
        "        return length * width\n",
        "    elif shape == \"Circle\":\n",
        "        radius, = dimensions\n",
        "        return 3.14159 * (radius ** 2)\n",
        "    else:\n",
        "        return None\n",
        "\n",
        "# Interactive functions for the ITS\n",
        "def on_shape_selected(change):\n",
        "    clear_output()\n",
        "    shape = shape_selector.value\n",
        "    if shape == \"Triangle\":\n",
        "        ask_triangle_details()\n",
        "    elif shape == \"Rectangle\":\n",
        "        ask_rectangle_details()\n",
        "    elif shape == \"Circle\":\n",
        "        ask_circle_details()\n",
        "    else:\n",
        "        print(\"Please select a valid shape!\")\n",
        "\n",
        "# Triangle input\n",
        "def ask_triangle_details():\n",
        "    base_input = widgets.FloatText(description=\"Base:\")\n",
        "    height_input = widgets.FloatText(description=\"Height:\")\n",
        "    calculate_button = widgets.Button(description=\"Calculate Area\")\n",
        "\n",
        "    def calculate_on_click(b):\n",
        "        base = base_input.value\n",
        "        height = height_input.value\n",
        "        if base > 0 and height > 0:\n",
        "            area = calculate_area(\"Triangle\", (base, height))\n",
        "            print(f\"The area of the triangle is {area:.2f} square units.\")\n",
        "        else:\n",
        "            print(\"Invalid input. Please enter positive values.\")\n",
        "\n",
        "    calculate_button.on_click(calculate_on_click)\n",
        "    display(base_input, height_input, calculate_button)\n",
        "\n",
        "# Rectangle input\n",
        "def ask_rectangle_details():\n",
        "    length_input = widgets.FloatText(description=\"Length:\")\n",
        "    width_input = widgets.FloatText(description=\"Width:\")\n",
        "    calculate_button = widgets.Button(description=\"Calculate Area\")\n",
        "\n",
        "    def calculate_on_click(b):\n",
        "        length = length_input.value\n",
        "        width = width_input.value\n",
        "        if length > 0 and width > 0:\n",
        "            area = calculate_area(\"Rectangle\", (length, width))\n",
        "            print(f\"The area of the rectangle is {area:.2f} square units.\")\n",
        "        else:\n",
        "            print(\"Invalid input. Please enter positive values.\")\n",
        "\n",
        "    calculate_button.on_click(calculate_on_click)\n",
        "    display(length_input, width_input, calculate_button)\n",
        "\n",
        "# Circle input\n",
        "def ask_circle_details():\n",
        "    radius_input = widgets.FloatText(description=\"Radius:\")\n",
        "    calculate_button = widgets.Button(description=\"Calculate Area\")\n",
        "\n",
        "    def calculate_on_click(b):\n",
        "        radius = radius_input.value\n",
        "        if radius > 0:\n",
        "            area = calculate_area(\"Circle\", (radius,))\n",
        "            print(f\"The area of the circle is {area:.2f} square units.\")\n",
        "        else:\n",
        "            print(\"Invalid input. Please enter a positive value.\")\n",
        "\n",
        "    calculate_button.on_click(calculate_on_click)\n",
        "    display(radius_input, calculate_button)\n",
        "\n",
        "# Main ITS Interface\n",
        "print(\"Welcome to the Intelligent Tutoring System!\")\n",
        "print(\"Choose a shape to calculate the area:\")\n",
        "shape_selector = widgets.Dropdown(\n",
        "    options=[\"Select\", \"Triangle\", \"Rectangle\", \"Circle\"],\n",
        "    description=\"Shape:\"\n",
        ")\n",
        "shape_selector.observe(on_shape_selected, names='value')\n",
        "display(shape_selector)\n"
      ]
    }
  ]
}